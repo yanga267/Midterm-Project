{
 "cells": [
  {
   "cell_type": "code",
   "execution_count": 1,
   "metadata": {},
   "outputs": [
    {
     "name": "stdout",
     "output_type": "stream",
     "text": [
      " 0 :  2\n",
      " 1 :  3\n",
      " 2 :  4\n",
      " 3 :  5\n",
      " 4 :  5\n",
      " 5 :  2\n",
      " 6 :  6\n",
      " 7 :  4\n",
      " 8 :  3\n",
      " 9 :  5\n",
      " 10 :  3\n"
     ]
    }
   ],
   "source": [
    "#q1.1\n",
    "\n",
    "my_list=[2,4,6,8,4,5,2,1,9,0,4,6,7,4,3,2,1,9,10,3,7,9,6,0,1,3,5,6,7,8,9,10,2,3,6,8,9,10,6,7,4,3]\n",
    "my_list.sort()\n",
    "freq = {}\n",
    "for item in my_list:\n",
    "    if (item in freq):\n",
    "        freq[item] += 1\n",
    "    else:\n",
    "        freq[item] = 1\n",
    "for key, value in freq.items():\n",
    "        print (\"% d : % d\"%(key, value))\n"
   ]
  },
  {
   "cell_type": "code",
   "execution_count": 2,
   "metadata": {},
   "outputs": [
    {
     "data": {
      "text/plain": [
       "<matplotlib.axes._subplots.AxesSubplot at 0x7fe5eb1a8160>"
      ]
     },
     "execution_count": 2,
     "metadata": {},
     "output_type": "execute_result"
    },
    {
     "data": {
      "image/png": "[encoded data removed]",
      "text/plain": [
       "<Figure size 432x288 with 1 Axes>"
      ]
     },
     "metadata": {
      "needs_background": "light"
     },
     "output_type": "display_data"
    }
   ],
   "source": [
    "#q1.2\n",
    "from collections import Counter\n",
    "import pandas\n",
    "\n",
    "count = Counter(my_list)\n",
    "df = pandas.DataFrame.from_dict(count, orient='index')\n",
    "df.plot(kind='bar')"
   ]
  },
  {
   "cell_type": "code",
   "execution_count": 3,
   "metadata": {},
   "outputs": [
    {
     "name": "stdout",
     "output_type": "stream",
     "text": [
      "{\"0\": 2, \"1\": 3, \"2\": 4, \"3\": 5, \"4\": 5, \"5\": 2, \"6\": 6, \"7\": 4, \"8\": 3, \"9\": 5, \"10\": 3}\n"
     ]
    }
   ],
   "source": [
    "#q1.3\n",
    "import json\n",
    "\n",
    "y=json.dumps(freq)\n",
    "print(y)"
   ]
  },
  {
   "cell_type": "code",
   "execution_count": 4,
   "metadata": {},
   "outputs": [
    {
     "data": {
      "text/html": [
       "<div>\n",
       "<style scoped>\n",
       "    .dataframe tbody tr th:only-of-type {\n",
       "        vertical-align: middle;\n",
       "    }\n",
       "\n",
       "    .dataframe tbody tr th {\n",
       "        vertical-align: top;\n",
       "    }\n",
       "\n",
       "    .dataframe thead th {\n",
       "        text-align: right;\n",
       "    }\n",
       "</style>\n",
       "<table border=\"1\" class=\"dataframe\">\n",
       "  <thead>\n",
       "    <tr style=\"text-align: right;\">\n",
       "      <th></th>\n",
       "      <th>Order Date</th>\n",
       "      <th>Order ID</th>\n",
       "      <th>Payment Instrument Type</th>\n",
       "      <th>Website</th>\n",
       "      <th>Purchase Order Number</th>\n",
       "      <th>Ordering Customer Email</th>\n",
       "      <th>Shipment Date</th>\n",
       "      <th>Shipping Address Name</th>\n",
       "      <th>Shipping Address Street 1</th>\n",
       "      <th>Shipping Address Street 2</th>\n",
       "      <th>...</th>\n",
       "      <th>Order Status</th>\n",
       "      <th>Carrier Name &amp; Tracking Number</th>\n",
       "      <th>Subtotal</th>\n",
       "      <th>Shipping Charge</th>\n",
       "      <th>Tax Before Promotions</th>\n",
       "      <th>Total Promotions</th>\n",
       "      <th>Tax Charged</th>\n",
       "      <th>Total Charged</th>\n",
       "      <th>Buyer Name</th>\n",
       "      <th>Group Name</th>\n",
       "    </tr>\n",
       "  </thead>\n",
       "  <tbody>\n",
       "    <tr>\n",
       "      <th>0</th>\n",
       "      <td>08/05/18</td>\n",
       "      <td>113-5642602-9757003</td>\n",
       "      <td>MasterCard - 6048</td>\n",
       "      <td>Amazon.com</td>\n",
       "      <td>NaN</td>\n",
       "      <td>yanga267@gwu.edu</td>\n",
       "      <td>08/06/18</td>\n",
       "      <td>Address unavailable</td>\n",
       "      <td>NaN</td>\n",
       "      <td>NaN</td>\n",
       "      <td>...</td>\n",
       "      <td>Shipped</td>\n",
       "      <td>UPS(1ZX5Y7830340478872)</td>\n",
       "      <td>$11.99</td>\n",
       "      <td>$0.00</td>\n",
       "      <td>$0.00</td>\n",
       "      <td>$0.00</td>\n",
       "      <td>$0.00</td>\n",
       "      <td>$11.99</td>\n",
       "      <td>Audrey Yang</td>\n",
       "      <td>NaN</td>\n",
       "    </tr>\n",
       "    <tr>\n",
       "      <th>1</th>\n",
       "      <td>08/06/18</td>\n",
       "      <td>113-8003942-0110606</td>\n",
       "      <td>MasterCard - 6048</td>\n",
       "      <td>Amazon.com</td>\n",
       "      <td>NaN</td>\n",
       "      <td>yanga267@gwu.edu</td>\n",
       "      <td>08/07/18</td>\n",
       "      <td>Address unavailable</td>\n",
       "      <td>NaN</td>\n",
       "      <td>NaN</td>\n",
       "      <td>...</td>\n",
       "      <td>Shipped</td>\n",
       "      <td>USPS(9341989678092245974413)</td>\n",
       "      <td>$44.65</td>\n",
       "      <td>$0.00</td>\n",
       "      <td>$0.00</td>\n",
       "      <td>$0.00</td>\n",
       "      <td>$0.00</td>\n",
       "      <td>$44.65</td>\n",
       "      <td>Audrey Yang</td>\n",
       "      <td>NaN</td>\n",
       "    </tr>\n",
       "    <tr>\n",
       "      <th>2</th>\n",
       "      <td>08/14/18</td>\n",
       "      <td>113-0086955-8681015</td>\n",
       "      <td>MasterCard - 6048</td>\n",
       "      <td>Amazon.com</td>\n",
       "      <td>NaN</td>\n",
       "      <td>yanga267@gwu.edu</td>\n",
       "      <td>08/14/18</td>\n",
       "      <td>Audrey Yang</td>\n",
       "      <td>401 N SENATE AVE UNIT 322</td>\n",
       "      <td>NaN</td>\n",
       "      <td>...</td>\n",
       "      <td>Shipped</td>\n",
       "      <td>USPS(9305520111402883893350)</td>\n",
       "      <td>$98.93</td>\n",
       "      <td>$0.00</td>\n",
       "      <td>$0.00</td>\n",
       "      <td>$0.00</td>\n",
       "      <td>$0.00</td>\n",
       "      <td>$98.93</td>\n",
       "      <td>Audrey Yang</td>\n",
       "      <td>NaN</td>\n",
       "    </tr>\n",
       "    <tr>\n",
       "      <th>3</th>\n",
       "      <td>08/14/18</td>\n",
       "      <td>113-8407491-9489008</td>\n",
       "      <td>Visa - 7845</td>\n",
       "      <td>Amazon.com</td>\n",
       "      <td>NaN</td>\n",
       "      <td>yanga267@gwu.edu</td>\n",
       "      <td>08/15/18</td>\n",
       "      <td>Audrey Yang</td>\n",
       "      <td>401 N SENATE AVE UNIT 322</td>\n",
       "      <td>NaN</td>\n",
       "      <td>...</td>\n",
       "      <td>Shipped</td>\n",
       "      <td>AMZN_US(TBA186602912000)</td>\n",
       "      <td>$29.19</td>\n",
       "      <td>$0.00</td>\n",
       "      <td>$2.04</td>\n",
       "      <td>$0.00</td>\n",
       "      <td>$2.04</td>\n",
       "      <td>$31.23</td>\n",
       "      <td>Audrey Yang</td>\n",
       "      <td>NaN</td>\n",
       "    </tr>\n",
       "    <tr>\n",
       "      <th>4</th>\n",
       "      <td>08/24/18</td>\n",
       "      <td>113-7850999-9698643</td>\n",
       "      <td>Visa - 7845</td>\n",
       "      <td>Amazon.com</td>\n",
       "      <td>NaN</td>\n",
       "      <td>yanga267@gwu.edu</td>\n",
       "      <td>08/27/18</td>\n",
       "      <td>Audrey Yang</td>\n",
       "      <td>2121 H ST NW DISTRICT HOUSE</td>\n",
       "      <td>RM 406</td>\n",
       "      <td>...</td>\n",
       "      <td>Shipped</td>\n",
       "      <td>USPS(9341989678092276133193)</td>\n",
       "      <td>$27.48</td>\n",
       "      <td>$0.00</td>\n",
       "      <td>$1.58</td>\n",
       "      <td>$0.00</td>\n",
       "      <td>$1.58</td>\n",
       "      <td>$29.06</td>\n",
       "      <td>Audrey Yang</td>\n",
       "      <td>NaN</td>\n",
       "    </tr>\n",
       "  </tbody>\n",
       "</table>\n",
       "<p>5 rows × 23 columns</p>\n",
       "</div>"
      ],
      "text/plain": [
       "  Order Date             Order ID Payment Instrument Type     Website  \\\n",
       "0   08/05/18  113-5642602-9757003       MasterCard - 6048  Amazon.com   \n",
       "1   08/06/18  113-8003942-0110606       MasterCard - 6048  Amazon.com   \n",
       "2   08/14/18  113-0086955-8681015       MasterCard - 6048  Amazon.com   \n",
       "3   08/14/18  113-8407491-9489008             Visa - 7845  Amazon.com   \n",
       "4   08/24/18  113-7850999-9698643             Visa - 7845  Amazon.com   \n",
       "\n",
       "   Purchase Order Number Ordering Customer Email Shipment Date  \\\n",
       "0                    NaN        yanga267@gwu.edu      08/06/18   \n",
       "1                    NaN        yanga267@gwu.edu      08/07/18   \n",
       "2                    NaN        yanga267@gwu.edu      08/14/18   \n",
       "3                    NaN        yanga267@gwu.edu      08/15/18   \n",
       "4                    NaN        yanga267@gwu.edu      08/27/18   \n",
       "\n",
       "  Shipping Address Name    Shipping Address Street 1  \\\n",
       "0   Address unavailable                          NaN   \n",
       "1   Address unavailable                          NaN   \n",
       "2           Audrey Yang    401 N SENATE AVE UNIT 322   \n",
       "3           Audrey Yang    401 N SENATE AVE UNIT 322   \n",
       "4           Audrey Yang  2121 H ST NW DISTRICT HOUSE   \n",
       "\n",
       "  Shipping Address Street 2  ... Order Status Carrier Name & Tracking Number  \\\n",
       "0                       NaN  ...      Shipped        UPS(1ZX5Y7830340478872)   \n",
       "1                       NaN  ...      Shipped   USPS(9341989678092245974413)   \n",
       "2                       NaN  ...      Shipped   USPS(9305520111402883893350)   \n",
       "3                       NaN  ...      Shipped       AMZN_US(TBA186602912000)   \n",
       "4                    RM 406  ...      Shipped   USPS(9341989678092276133193)   \n",
       "\n",
       "  Subtotal Shipping Charge Tax Before Promotions Total Promotions Tax Charged  \\\n",
       "0   $11.99           $0.00                 $0.00            $0.00       $0.00   \n",
       "1   $44.65           $0.00                 $0.00            $0.00       $0.00   \n",
       "2   $98.93           $0.00                 $0.00            $0.00       $0.00   \n",
       "3   $29.19           $0.00                 $2.04            $0.00       $2.04   \n",
       "4   $27.48           $0.00                 $1.58            $0.00       $1.58   \n",
       "\n",
       "  Total Charged   Buyer Name Group Name  \n",
       "0        $11.99  Audrey Yang        NaN  \n",
       "1        $44.65  Audrey Yang        NaN  \n",
       "2        $98.93  Audrey Yang        NaN  \n",
       "3        $31.23  Audrey Yang        NaN  \n",
       "4        $29.06  Audrey Yang        NaN  \n",
       "\n",
       "[5 rows x 23 columns]"
      ]
     },
     "execution_count": 4,
     "metadata": {},
     "output_type": "execute_result"
    }
   ],
   "source": [
    "#q2\n",
    "\n",
    "import pandas as pd\n",
    "df=pd.read_csv('amazon-orders.csv')\n",
    "df.head()"
   ]
  },
  {
   "cell_type": "code",
   "execution_count": 5,
   "metadata": {},
   "outputs": [
    {
     "data": {
      "text/plain": [
       "(75, 23)"
      ]
     },
     "execution_count": 5,
     "metadata": {},
     "output_type": "execute_result"
    }
   ],
   "source": [
    "df.shape"
   ]
  },
  {
   "cell_type": "code",
   "execution_count": 6,
   "metadata": {},
   "outputs": [
    {
     "data": {
      "text/html": [
       "<div>\n",
       "<style scoped>\n",
       "    .dataframe tbody tr th:only-of-type {\n",
       "        vertical-align: middle;\n",
       "    }\n",
       "\n",
       "    .dataframe tbody tr th {\n",
       "        vertical-align: top;\n",
       "    }\n",
       "\n",
       "    .dataframe thead th {\n",
       "        text-align: right;\n",
       "    }\n",
       "</style>\n",
       "<table border=\"1\" class=\"dataframe\">\n",
       "  <thead>\n",
       "    <tr style=\"text-align: right;\">\n",
       "      <th></th>\n",
       "      <th>Order Date</th>\n",
       "      <th>Order ID</th>\n",
       "      <th>Payment Instrument Type</th>\n",
       "      <th>Website</th>\n",
       "      <th>Purchase Order Number</th>\n",
       "      <th>Ordering Customer Email</th>\n",
       "      <th>Shipment Date</th>\n",
       "      <th>Shipping Address Name</th>\n",
       "      <th>Shipping Address Street 1</th>\n",
       "      <th>Shipping Address Street 2</th>\n",
       "      <th>...</th>\n",
       "      <th>Order Status</th>\n",
       "      <th>Carrier Name &amp; Tracking Number</th>\n",
       "      <th>Subtotal</th>\n",
       "      <th>Shipping Charge</th>\n",
       "      <th>Tax Before Promotions</th>\n",
       "      <th>Total Promotions</th>\n",
       "      <th>Tax Charged</th>\n",
       "      <th>Total Charged</th>\n",
       "      <th>Buyer Name</th>\n",
       "      <th>Group Name</th>\n",
       "    </tr>\n",
       "  </thead>\n",
       "  <tbody>\n",
       "    <tr>\n",
       "      <th>0</th>\n",
       "      <td>08/05/18</td>\n",
       "      <td>113-5642602-9757003</td>\n",
       "      <td>MasterCard - 6048</td>\n",
       "      <td>Amazon.com</td>\n",
       "      <td>0.0</td>\n",
       "      <td>yanga267@gwu.edu</td>\n",
       "      <td>08/06/18</td>\n",
       "      <td>Address unavailable</td>\n",
       "      <td>0</td>\n",
       "      <td>0</td>\n",
       "      <td>...</td>\n",
       "      <td>Shipped</td>\n",
       "      <td>UPS(1ZX5Y7830340478872)</td>\n",
       "      <td>$11.99</td>\n",
       "      <td>$0.00</td>\n",
       "      <td>$0.00</td>\n",
       "      <td>$0.00</td>\n",
       "      <td>$0.00</td>\n",
       "      <td>$11.99</td>\n",
       "      <td>Audrey Yang</td>\n",
       "      <td>0.0</td>\n",
       "    </tr>\n",
       "    <tr>\n",
       "      <th>1</th>\n",
       "      <td>08/06/18</td>\n",
       "      <td>113-8003942-0110606</td>\n",
       "      <td>MasterCard - 6048</td>\n",
       "      <td>Amazon.com</td>\n",
       "      <td>0.0</td>\n",
       "      <td>yanga267@gwu.edu</td>\n",
       "      <td>08/07/18</td>\n",
       "      <td>Address unavailable</td>\n",
       "      <td>0</td>\n",
       "      <td>0</td>\n",
       "      <td>...</td>\n",
       "      <td>Shipped</td>\n",
       "      <td>USPS(9341989678092245974413)</td>\n",
       "      <td>$44.65</td>\n",
       "      <td>$0.00</td>\n",
       "      <td>$0.00</td>\n",
       "      <td>$0.00</td>\n",
       "      <td>$0.00</td>\n",
       "      <td>$44.65</td>\n",
       "      <td>Audrey Yang</td>\n",
       "      <td>0.0</td>\n",
       "    </tr>\n",
       "    <tr>\n",
       "      <th>2</th>\n",
       "      <td>08/14/18</td>\n",
       "      <td>113-0086955-8681015</td>\n",
       "      <td>MasterCard - 6048</td>\n",
       "      <td>Amazon.com</td>\n",
       "      <td>0.0</td>\n",
       "      <td>yanga267@gwu.edu</td>\n",
       "      <td>08/14/18</td>\n",
       "      <td>Audrey Yang</td>\n",
       "      <td>401 N SENATE AVE UNIT 322</td>\n",
       "      <td>0</td>\n",
       "      <td>...</td>\n",
       "      <td>Shipped</td>\n",
       "      <td>USPS(9305520111402883893350)</td>\n",
       "      <td>$98.93</td>\n",
       "      <td>$0.00</td>\n",
       "      <td>$0.00</td>\n",
       "      <td>$0.00</td>\n",
       "      <td>$0.00</td>\n",
       "      <td>$98.93</td>\n",
       "      <td>Audrey Yang</td>\n",
       "      <td>0.0</td>\n",
       "    </tr>\n",
       "    <tr>\n",
       "      <th>3</th>\n",
       "      <td>08/14/18</td>\n",
       "      <td>113-8407491-9489008</td>\n",
       "      <td>Visa - 7845</td>\n",
       "      <td>Amazon.com</td>\n",
       "      <td>0.0</td>\n",
       "      <td>yanga267@gwu.edu</td>\n",
       "      <td>08/15/18</td>\n",
       "      <td>Audrey Yang</td>\n",
       "      <td>401 N SENATE AVE UNIT 322</td>\n",
       "      <td>0</td>\n",
       "      <td>...</td>\n",
       "      <td>Shipped</td>\n",
       "      <td>AMZN_US(TBA186602912000)</td>\n",
       "      <td>$29.19</td>\n",
       "      <td>$0.00</td>\n",
       "      <td>$2.04</td>\n",
       "      <td>$0.00</td>\n",
       "      <td>$2.04</td>\n",
       "      <td>$31.23</td>\n",
       "      <td>Audrey Yang</td>\n",
       "      <td>0.0</td>\n",
       "    </tr>\n",
       "    <tr>\n",
       "      <th>4</th>\n",
       "      <td>08/24/18</td>\n",
       "      <td>113-7850999-9698643</td>\n",
       "      <td>Visa - 7845</td>\n",
       "      <td>Amazon.com</td>\n",
       "      <td>0.0</td>\n",
       "      <td>yanga267@gwu.edu</td>\n",
       "      <td>08/27/18</td>\n",
       "      <td>Audrey Yang</td>\n",
       "      <td>2121 H ST NW DISTRICT HOUSE</td>\n",
       "      <td>RM 406</td>\n",
       "      <td>...</td>\n",
       "      <td>Shipped</td>\n",
       "      <td>USPS(9341989678092276133193)</td>\n",
       "      <td>$27.48</td>\n",
       "      <td>$0.00</td>\n",
       "      <td>$1.58</td>\n",
       "      <td>$0.00</td>\n",
       "      <td>$1.58</td>\n",
       "      <td>$29.06</td>\n",
       "      <td>Audrey Yang</td>\n",
       "      <td>0.0</td>\n",
       "    </tr>\n",
       "  </tbody>\n",
       "</table>\n",
       "<p>5 rows × 23 columns</p>\n",
       "</div>"
      ],
      "text/plain": [
       "  Order Date             Order ID Payment Instrument Type     Website  \\\n",
       "0   08/05/18  113-5642602-9757003       MasterCard - 6048  Amazon.com   \n",
       "1   08/06/18  113-8003942-0110606       MasterCard - 6048  Amazon.com   \n",
       "2   08/14/18  113-0086955-8681015       MasterCard - 6048  Amazon.com   \n",
       "3   08/14/18  113-8407491-9489008             Visa - 7845  Amazon.com   \n",
       "4   08/24/18  113-7850999-9698643             Visa - 7845  Amazon.com   \n",
       "\n",
       "   Purchase Order Number Ordering Customer Email Shipment Date  \\\n",
       "0                    0.0        yanga267@gwu.edu      08/06/18   \n",
       "1                    0.0        yanga267@gwu.edu      08/07/18   \n",
       "2                    0.0        yanga267@gwu.edu      08/14/18   \n",
       "3                    0.0        yanga267@gwu.edu      08/15/18   \n",
       "4                    0.0        yanga267@gwu.edu      08/27/18   \n",
       "\n",
       "  Shipping Address Name    Shipping Address Street 1  \\\n",
       "0   Address unavailable                            0   \n",
       "1   Address unavailable                            0   \n",
       "2           Audrey Yang    401 N SENATE AVE UNIT 322   \n",
       "3           Audrey Yang    401 N SENATE AVE UNIT 322   \n",
       "4           Audrey Yang  2121 H ST NW DISTRICT HOUSE   \n",
       "\n",
       "  Shipping Address Street 2  ... Order Status Carrier Name & Tracking Number  \\\n",
       "0                         0  ...      Shipped        UPS(1ZX5Y7830340478872)   \n",
       "1                         0  ...      Shipped   USPS(9341989678092245974413)   \n",
       "2                         0  ...      Shipped   USPS(9305520111402883893350)   \n",
       "3                         0  ...      Shipped       AMZN_US(TBA186602912000)   \n",
       "4                    RM 406  ...      Shipped   USPS(9341989678092276133193)   \n",
       "\n",
       "  Subtotal Shipping Charge Tax Before Promotions Total Promotions Tax Charged  \\\n",
       "0   $11.99           $0.00                 $0.00            $0.00       $0.00   \n",
       "1   $44.65           $0.00                 $0.00            $0.00       $0.00   \n",
       "2   $98.93           $0.00                 $0.00            $0.00       $0.00   \n",
       "3   $29.19           $0.00                 $2.04            $0.00       $2.04   \n",
       "4   $27.48           $0.00                 $1.58            $0.00       $1.58   \n",
       "\n",
       "  Total Charged   Buyer Name Group Name  \n",
       "0        $11.99  Audrey Yang        0.0  \n",
       "1        $44.65  Audrey Yang        0.0  \n",
       "2        $98.93  Audrey Yang        0.0  \n",
       "3        $31.23  Audrey Yang        0.0  \n",
       "4        $29.06  Audrey Yang        0.0  \n",
       "\n",
       "[5 rows x 23 columns]"
      ]
     },
     "execution_count": 6,
     "metadata": {},
     "output_type": "execute_result"
    }
   ],
   "source": [
    "df=df.fillna(0)\n",
    "df.head()"
   ]
  },
  {
   "cell_type": "code",
   "execution_count": 7,
   "metadata": {},
   "outputs": [
    {
     "data": {
      "text/html": [
       "<div>\n",
       "<style scoped>\n",
       "    .dataframe tbody tr th:only-of-type {\n",
       "        vertical-align: middle;\n",
       "    }\n",
       "\n",
       "    .dataframe tbody tr th {\n",
       "        vertical-align: top;\n",
       "    }\n",
       "\n",
       "    .dataframe thead th {\n",
       "        text-align: right;\n",
       "    }\n",
       "</style>\n",
       "<table border=\"1\" class=\"dataframe\">\n",
       "  <thead>\n",
       "    <tr style=\"text-align: right;\">\n",
       "      <th></th>\n",
       "      <th>Order Date</th>\n",
       "      <th>Order ID</th>\n",
       "      <th>Payment Instrument Type</th>\n",
       "      <th>Website</th>\n",
       "      <th>Purchase Order Number</th>\n",
       "      <th>Ordering Customer Email</th>\n",
       "      <th>Shipment Date</th>\n",
       "      <th>Shipping Address Name</th>\n",
       "      <th>Shipping Address Street 1</th>\n",
       "      <th>Shipping Address Street 2</th>\n",
       "      <th>...</th>\n",
       "      <th>Order Status</th>\n",
       "      <th>Carrier Name &amp; Tracking Number</th>\n",
       "      <th>Subtotal</th>\n",
       "      <th>Shipping Charge</th>\n",
       "      <th>Tax Before Promotions</th>\n",
       "      <th>Total Promotions</th>\n",
       "      <th>Tax Charged</th>\n",
       "      <th>Total Charged</th>\n",
       "      <th>Buyer Name</th>\n",
       "      <th>Group Name</th>\n",
       "    </tr>\n",
       "  </thead>\n",
       "  <tbody>\n",
       "    <tr>\n",
       "      <th>0</th>\n",
       "      <td>08/05/18</td>\n",
       "      <td>113-5642602-9757003</td>\n",
       "      <td>MasterCard - 6048</td>\n",
       "      <td>Amazon.com</td>\n",
       "      <td>0.0</td>\n",
       "      <td>yanga267@gwu.edu</td>\n",
       "      <td>08/06/18</td>\n",
       "      <td>Address unavailable</td>\n",
       "      <td>0</td>\n",
       "      <td>0</td>\n",
       "      <td>...</td>\n",
       "      <td>Shipped</td>\n",
       "      <td>UPS(1ZX5Y7830340478872)</td>\n",
       "      <td>$11.99</td>\n",
       "      <td>$0.00</td>\n",
       "      <td>$0.00</td>\n",
       "      <td>$0.00</td>\n",
       "      <td>$0.00</td>\n",
       "      <td>11.99</td>\n",
       "      <td>Audrey Yang</td>\n",
       "      <td>0.0</td>\n",
       "    </tr>\n",
       "    <tr>\n",
       "      <th>1</th>\n",
       "      <td>08/06/18</td>\n",
       "      <td>113-8003942-0110606</td>\n",
       "      <td>MasterCard - 6048</td>\n",
       "      <td>Amazon.com</td>\n",
       "      <td>0.0</td>\n",
       "      <td>yanga267@gwu.edu</td>\n",
       "      <td>08/07/18</td>\n",
       "      <td>Address unavailable</td>\n",
       "      <td>0</td>\n",
       "      <td>0</td>\n",
       "      <td>...</td>\n",
       "      <td>Shipped</td>\n",
       "      <td>USPS(9341989678092245974413)</td>\n",
       "      <td>$44.65</td>\n",
       "      <td>$0.00</td>\n",
       "      <td>$0.00</td>\n",
       "      <td>$0.00</td>\n",
       "      <td>$0.00</td>\n",
       "      <td>44.65</td>\n",
       "      <td>Audrey Yang</td>\n",
       "      <td>0.0</td>\n",
       "    </tr>\n",
       "    <tr>\n",
       "      <th>2</th>\n",
       "      <td>08/14/18</td>\n",
       "      <td>113-0086955-8681015</td>\n",
       "      <td>MasterCard - 6048</td>\n",
       "      <td>Amazon.com</td>\n",
       "      <td>0.0</td>\n",
       "      <td>yanga267@gwu.edu</td>\n",
       "      <td>08/14/18</td>\n",
       "      <td>Audrey Yang</td>\n",
       "      <td>401 N SENATE AVE UNIT 322</td>\n",
       "      <td>0</td>\n",
       "      <td>...</td>\n",
       "      <td>Shipped</td>\n",
       "      <td>USPS(9305520111402883893350)</td>\n",
       "      <td>$98.93</td>\n",
       "      <td>$0.00</td>\n",
       "      <td>$0.00</td>\n",
       "      <td>$0.00</td>\n",
       "      <td>$0.00</td>\n",
       "      <td>98.93</td>\n",
       "      <td>Audrey Yang</td>\n",
       "      <td>0.0</td>\n",
       "    </tr>\n",
       "    <tr>\n",
       "      <th>3</th>\n",
       "      <td>08/14/18</td>\n",
       "      <td>113-8407491-9489008</td>\n",
       "      <td>Visa - 7845</td>\n",
       "      <td>Amazon.com</td>\n",
       "      <td>0.0</td>\n",
       "      <td>yanga267@gwu.edu</td>\n",
       "      <td>08/15/18</td>\n",
       "      <td>Audrey Yang</td>\n",
       "      <td>401 N SENATE AVE UNIT 322</td>\n",
       "      <td>0</td>\n",
       "      <td>...</td>\n",
       "      <td>Shipped</td>\n",
       "      <td>AMZN_US(TBA186602912000)</td>\n",
       "      <td>$29.19</td>\n",
       "      <td>$0.00</td>\n",
       "      <td>$2.04</td>\n",
       "      <td>$0.00</td>\n",
       "      <td>$2.04</td>\n",
       "      <td>31.23</td>\n",
       "      <td>Audrey Yang</td>\n",
       "      <td>0.0</td>\n",
       "    </tr>\n",
       "    <tr>\n",
       "      <th>4</th>\n",
       "      <td>08/24/18</td>\n",
       "      <td>113-7850999-9698643</td>\n",
       "      <td>Visa - 7845</td>\n",
       "      <td>Amazon.com</td>\n",
       "      <td>0.0</td>\n",
       "      <td>yanga267@gwu.edu</td>\n",
       "      <td>08/27/18</td>\n",
       "      <td>Audrey Yang</td>\n",
       "      <td>2121 H ST NW DISTRICT HOUSE</td>\n",
       "      <td>RM 406</td>\n",
       "      <td>...</td>\n",
       "      <td>Shipped</td>\n",
       "      <td>USPS(9341989678092276133193)</td>\n",
       "      <td>$27.48</td>\n",
       "      <td>$0.00</td>\n",
       "      <td>$1.58</td>\n",
       "      <td>$0.00</td>\n",
       "      <td>$1.58</td>\n",
       "      <td>29.06</td>\n",
       "      <td>Audrey Yang</td>\n",
       "      <td>0.0</td>\n",
       "    </tr>\n",
       "  </tbody>\n",
       "</table>\n",
       "<p>5 rows × 23 columns</p>\n",
       "</div>"
      ],
      "text/plain": [
       "  Order Date             Order ID Payment Instrument Type     Website  \\\n",
       "0   08/05/18  113-5642602-9757003       MasterCard - 6048  Amazon.com   \n",
       "1   08/06/18  113-8003942-0110606       MasterCard - 6048  Amazon.com   \n",
       "2   08/14/18  113-0086955-8681015       MasterCard - 6048  Amazon.com   \n",
       "3   08/14/18  113-8407491-9489008             Visa - 7845  Amazon.com   \n",
       "4   08/24/18  113-7850999-9698643             Visa - 7845  Amazon.com   \n",
       "\n",
       "   Purchase Order Number Ordering Customer Email Shipment Date  \\\n",
       "0                    0.0        yanga267@gwu.edu      08/06/18   \n",
       "1                    0.0        yanga267@gwu.edu      08/07/18   \n",
       "2                    0.0        yanga267@gwu.edu      08/14/18   \n",
       "3                    0.0        yanga267@gwu.edu      08/15/18   \n",
       "4                    0.0        yanga267@gwu.edu      08/27/18   \n",
       "\n",
       "  Shipping Address Name    Shipping Address Street 1  \\\n",
       "0   Address unavailable                            0   \n",
       "1   Address unavailable                            0   \n",
       "2           Audrey Yang    401 N SENATE AVE UNIT 322   \n",
       "3           Audrey Yang    401 N SENATE AVE UNIT 322   \n",
       "4           Audrey Yang  2121 H ST NW DISTRICT HOUSE   \n",
       "\n",
       "  Shipping Address Street 2  ... Order Status Carrier Name & Tracking Number  \\\n",
       "0                         0  ...      Shipped        UPS(1ZX5Y7830340478872)   \n",
       "1                         0  ...      Shipped   USPS(9341989678092245974413)   \n",
       "2                         0  ...      Shipped   USPS(9305520111402883893350)   \n",
       "3                         0  ...      Shipped       AMZN_US(TBA186602912000)   \n",
       "4                    RM 406  ...      Shipped   USPS(9341989678092276133193)   \n",
       "\n",
       "  Subtotal Shipping Charge Tax Before Promotions Total Promotions Tax Charged  \\\n",
       "0   $11.99           $0.00                 $0.00            $0.00       $0.00   \n",
       "1   $44.65           $0.00                 $0.00            $0.00       $0.00   \n",
       "2   $98.93           $0.00                 $0.00            $0.00       $0.00   \n",
       "3   $29.19           $0.00                 $2.04            $0.00       $2.04   \n",
       "4   $27.48           $0.00                 $1.58            $0.00       $1.58   \n",
       "\n",
       "  Total Charged   Buyer Name Group Name  \n",
       "0         11.99  Audrey Yang        0.0  \n",
       "1         44.65  Audrey Yang        0.0  \n",
       "2         98.93  Audrey Yang        0.0  \n",
       "3         31.23  Audrey Yang        0.0  \n",
       "4         29.06  Audrey Yang        0.0  \n",
       "\n",
       "[5 rows x 23 columns]"
      ]
     },
     "execution_count": 7,
     "metadata": {},
     "output_type": "execute_result"
    }
   ],
   "source": [
    "df[\"Total Charged\"] = df[\"Total Charged\"].str.replace('$','').astype(float)\n",
    "df.head()"
   ]
  },
  {
   "cell_type": "code",
   "execution_count": 8,
   "metadata": {},
   "outputs": [
    {
     "data": {
      "text/plain": [
       "2202.2799999999993"
      ]
     },
     "execution_count": 8,
     "metadata": {},
     "output_type": "execute_result"
    }
   ],
   "source": [
    "df[\"Total Charged\"].sum()"
   ]
  },
  {
   "cell_type": "code",
   "execution_count": 9,
   "metadata": {},
   "outputs": [
    {
     "data": {
      "text/plain": [
       "29.363733333333318"
      ]
     },
     "execution_count": 9,
     "metadata": {},
     "output_type": "execute_result"
    }
   ],
   "source": [
    "df[\"Total Charged\"].mean()"
   ]
  },
  {
   "cell_type": "code",
   "execution_count": 10,
   "metadata": {},
   "outputs": [
    {
     "data": {
      "text/plain": [
       "22.49"
      ]
     },
     "execution_count": 10,
     "metadata": {},
     "output_type": "execute_result"
    }
   ],
   "source": [
    "df[\"Total Charged\"].median()"
   ]
  },
  {
   "cell_type": "code",
   "execution_count": 11,
   "metadata": {},
   "outputs": [
    {
     "data": {
      "text/plain": [
       "103.57"
      ]
     },
     "execution_count": 11,
     "metadata": {},
     "output_type": "execute_result"
    }
   ],
   "source": [
    "df[\"Total Charged\"].max()"
   ]
  },
  {
   "cell_type": "code",
   "execution_count": 12,
   "metadata": {},
   "outputs": [
    {
     "data": {
      "text/plain": [
       "0.0"
      ]
     },
     "execution_count": 12,
     "metadata": {},
     "output_type": "execute_result"
    }
   ],
   "source": [
    "df[\"Total Charged\"].min()"
   ]
  },
  {
   "cell_type": "code",
   "execution_count": 13,
   "metadata": {},
   "outputs": [
    {
     "data": {
      "text/html": [
       "<div>\n",
       "<style scoped>\n",
       "    .dataframe tbody tr th:only-of-type {\n",
       "        vertical-align: middle;\n",
       "    }\n",
       "\n",
       "    .dataframe tbody tr th {\n",
       "        vertical-align: top;\n",
       "    }\n",
       "\n",
       "    .dataframe thead th {\n",
       "        text-align: right;\n",
       "    }\n",
       "</style>\n",
       "<table border=\"1\" class=\"dataframe\">\n",
       "  <thead>\n",
       "    <tr style=\"text-align: right;\">\n",
       "      <th></th>\n",
       "      <th>Order Date</th>\n",
       "      <th>Order ID</th>\n",
       "      <th>Payment Instrument Type</th>\n",
       "      <th>Website</th>\n",
       "      <th>Purchase Order Number</th>\n",
       "      <th>Ordering Customer Email</th>\n",
       "      <th>Shipment Date</th>\n",
       "      <th>Shipping Address Name</th>\n",
       "      <th>Shipping Address Street 1</th>\n",
       "      <th>Shipping Address Street 2</th>\n",
       "      <th>...</th>\n",
       "      <th>Order Status</th>\n",
       "      <th>Carrier Name &amp; Tracking Number</th>\n",
       "      <th>Subtotal</th>\n",
       "      <th>Shipping Charge</th>\n",
       "      <th>Tax Before Promotions</th>\n",
       "      <th>Total Promotions</th>\n",
       "      <th>Tax Charged</th>\n",
       "      <th>Total Charged</th>\n",
       "      <th>Buyer Name</th>\n",
       "      <th>Group Name</th>\n",
       "    </tr>\n",
       "  </thead>\n",
       "  <tbody>\n",
       "    <tr>\n",
       "      <th>0</th>\n",
       "      <td>2018-08-05</td>\n",
       "      <td>113-5642602-9757003</td>\n",
       "      <td>MasterCard - 6048</td>\n",
       "      <td>Amazon.com</td>\n",
       "      <td>0.0</td>\n",
       "      <td>yanga267@gwu.edu</td>\n",
       "      <td>08/06/18</td>\n",
       "      <td>Address unavailable</td>\n",
       "      <td>0</td>\n",
       "      <td>0</td>\n",
       "      <td>...</td>\n",
       "      <td>Shipped</td>\n",
       "      <td>UPS(1ZX5Y7830340478872)</td>\n",
       "      <td>$11.99</td>\n",
       "      <td>$0.00</td>\n",
       "      <td>$0.00</td>\n",
       "      <td>$0.00</td>\n",
       "      <td>$0.00</td>\n",
       "      <td>11.99</td>\n",
       "      <td>Audrey Yang</td>\n",
       "      <td>0.0</td>\n",
       "    </tr>\n",
       "    <tr>\n",
       "      <th>1</th>\n",
       "      <td>2018-08-06</td>\n",
       "      <td>113-8003942-0110606</td>\n",
       "      <td>MasterCard - 6048</td>\n",
       "      <td>Amazon.com</td>\n",
       "      <td>0.0</td>\n",
       "      <td>yanga267@gwu.edu</td>\n",
       "      <td>08/07/18</td>\n",
       "      <td>Address unavailable</td>\n",
       "      <td>0</td>\n",
       "      <td>0</td>\n",
       "      <td>...</td>\n",
       "      <td>Shipped</td>\n",
       "      <td>USPS(9341989678092245974413)</td>\n",
       "      <td>$44.65</td>\n",
       "      <td>$0.00</td>\n",
       "      <td>$0.00</td>\n",
       "      <td>$0.00</td>\n",
       "      <td>$0.00</td>\n",
       "      <td>44.65</td>\n",
       "      <td>Audrey Yang</td>\n",
       "      <td>0.0</td>\n",
       "    </tr>\n",
       "    <tr>\n",
       "      <th>2</th>\n",
       "      <td>2018-08-14</td>\n",
       "      <td>113-0086955-8681015</td>\n",
       "      <td>MasterCard - 6048</td>\n",
       "      <td>Amazon.com</td>\n",
       "      <td>0.0</td>\n",
       "      <td>yanga267@gwu.edu</td>\n",
       "      <td>08/14/18</td>\n",
       "      <td>Audrey Yang</td>\n",
       "      <td>401 N SENATE AVE UNIT 322</td>\n",
       "      <td>0</td>\n",
       "      <td>...</td>\n",
       "      <td>Shipped</td>\n",
       "      <td>USPS(9305520111402883893350)</td>\n",
       "      <td>$98.93</td>\n",
       "      <td>$0.00</td>\n",
       "      <td>$0.00</td>\n",
       "      <td>$0.00</td>\n",
       "      <td>$0.00</td>\n",
       "      <td>98.93</td>\n",
       "      <td>Audrey Yang</td>\n",
       "      <td>0.0</td>\n",
       "    </tr>\n",
       "    <tr>\n",
       "      <th>3</th>\n",
       "      <td>2018-08-14</td>\n",
       "      <td>113-8407491-9489008</td>\n",
       "      <td>Visa - 7845</td>\n",
       "      <td>Amazon.com</td>\n",
       "      <td>0.0</td>\n",
       "      <td>yanga267@gwu.edu</td>\n",
       "      <td>08/15/18</td>\n",
       "      <td>Audrey Yang</td>\n",
       "      <td>401 N SENATE AVE UNIT 322</td>\n",
       "      <td>0</td>\n",
       "      <td>...</td>\n",
       "      <td>Shipped</td>\n",
       "      <td>AMZN_US(TBA186602912000)</td>\n",
       "      <td>$29.19</td>\n",
       "      <td>$0.00</td>\n",
       "      <td>$2.04</td>\n",
       "      <td>$0.00</td>\n",
       "      <td>$2.04</td>\n",
       "      <td>31.23</td>\n",
       "      <td>Audrey Yang</td>\n",
       "      <td>0.0</td>\n",
       "    </tr>\n",
       "    <tr>\n",
       "      <th>4</th>\n",
       "      <td>2018-08-24</td>\n",
       "      <td>113-7850999-9698643</td>\n",
       "      <td>Visa - 7845</td>\n",
       "      <td>Amazon.com</td>\n",
       "      <td>0.0</td>\n",
       "      <td>yanga267@gwu.edu</td>\n",
       "      <td>08/27/18</td>\n",
       "      <td>Audrey Yang</td>\n",
       "      <td>2121 H ST NW DISTRICT HOUSE</td>\n",
       "      <td>RM 406</td>\n",
       "      <td>...</td>\n",
       "      <td>Shipped</td>\n",
       "      <td>USPS(9341989678092276133193)</td>\n",
       "      <td>$27.48</td>\n",
       "      <td>$0.00</td>\n",
       "      <td>$1.58</td>\n",
       "      <td>$0.00</td>\n",
       "      <td>$1.58</td>\n",
       "      <td>29.06</td>\n",
       "      <td>Audrey Yang</td>\n",
       "      <td>0.0</td>\n",
       "    </tr>\n",
       "  </tbody>\n",
       "</table>\n",
       "<p>5 rows × 23 columns</p>\n",
       "</div>"
      ],
      "text/plain": [
       "  Order Date             Order ID Payment Instrument Type     Website  \\\n",
       "0 2018-08-05  113-5642602-9757003       MasterCard - 6048  Amazon.com   \n",
       "1 2018-08-06  113-8003942-0110606       MasterCard - 6048  Amazon.com   \n",
       "2 2018-08-14  113-0086955-8681015       MasterCard - 6048  Amazon.com   \n",
       "3 2018-08-14  113-8407491-9489008             Visa - 7845  Amazon.com   \n",
       "4 2018-08-24  113-7850999-9698643             Visa - 7845  Amazon.com   \n",
       "\n",
       "   Purchase Order Number Ordering Customer Email Shipment Date  \\\n",
       "0                    0.0        yanga267@gwu.edu      08/06/18   \n",
       "1                    0.0        yanga267@gwu.edu      08/07/18   \n",
       "2                    0.0        yanga267@gwu.edu      08/14/18   \n",
       "3                    0.0        yanga267@gwu.edu      08/15/18   \n",
       "4                    0.0        yanga267@gwu.edu      08/27/18   \n",
       "\n",
       "  Shipping Address Name    Shipping Address Street 1  \\\n",
       "0   Address unavailable                            0   \n",
       "1   Address unavailable                            0   \n",
       "2           Audrey Yang    401 N SENATE AVE UNIT 322   \n",
       "3           Audrey Yang    401 N SENATE AVE UNIT 322   \n",
       "4           Audrey Yang  2121 H ST NW DISTRICT HOUSE   \n",
       "\n",
       "  Shipping Address Street 2  ... Order Status Carrier Name & Tracking Number  \\\n",
       "0                         0  ...      Shipped        UPS(1ZX5Y7830340478872)   \n",
       "1                         0  ...      Shipped   USPS(9341989678092245974413)   \n",
       "2                         0  ...      Shipped   USPS(9305520111402883893350)   \n",
       "3                         0  ...      Shipped       AMZN_US(TBA186602912000)   \n",
       "4                    RM 406  ...      Shipped   USPS(9341989678092276133193)   \n",
       "\n",
       "  Subtotal Shipping Charge Tax Before Promotions Total Promotions Tax Charged  \\\n",
       "0   $11.99           $0.00                 $0.00            $0.00       $0.00   \n",
       "1   $44.65           $0.00                 $0.00            $0.00       $0.00   \n",
       "2   $98.93           $0.00                 $0.00            $0.00       $0.00   \n",
       "3   $29.19           $0.00                 $2.04            $0.00       $2.04   \n",
       "4   $27.48           $0.00                 $1.58            $0.00       $1.58   \n",
       "\n",
       "  Total Charged   Buyer Name Group Name  \n",
       "0         11.99  Audrey Yang        0.0  \n",
       "1         44.65  Audrey Yang        0.0  \n",
       "2         98.93  Audrey Yang        0.0  \n",
       "3         31.23  Audrey Yang        0.0  \n",
       "4         29.06  Audrey Yang        0.0  \n",
       "\n",
       "[5 rows x 23 columns]"
      ]
     },
     "execution_count": 13,
     "metadata": {},
     "output_type": "execute_result"
    }
   ],
   "source": [
    "df['Order Date']=pd.to_datetime(df['Order Date'])\n",
    "df.head()"
   ]
  },
  {
   "cell_type": "code",
   "execution_count": 15,
   "metadata": {},
   "outputs": [],
   "source": [
    "%matplotlib inline\n"
   ]
  },
  {
   "cell_type": "code",
   "execution_count": 18,
   "metadata": {},
   "outputs": [
    {
     "data": {
      "text/plain": [
       "<matplotlib.axes._subplots.AxesSubplot at 0x7fe578046a90>"
      ]
     },
     "execution_count": 18,
     "metadata": {},
     "output_type": "execute_result"
    },
    {
     "data": {
      "image/png": "[encoded data removed]",
      "text/plain": [
       "<Figure size 432x288 with 1 Axes>"
      ]
     },
     "metadata": {
      "needs_background": "light"
     },
     "output_type": "display_data"
    },
    {
     "data": {
      "image/png": "[encoded data removed]",
      "text/plain": [
       "<Figure size 1440x720 with 1 Axes>"
      ]
     },
     "metadata": {
      "needs_background": "light"
     },
     "output_type": "display_data"
    }
   ],
   "source": [
    "#Total charge by date\n",
    "df.plot.bar(x='Order Date', y='Total Charged', rot=90)\n",
    "df.plot.bar(x='Order Date', y='Total Charged', rot=90, figsize=(20,10))\n",
    "daily_orders = df.groupby('Order Date').sum()[\"Total Charged\"]\n",
    "daily_orders.head()\n",
    "daily_orders.plot.bar(figsize=(20,10))"
   ]
  },
  {
   "cell_type": "code",
   "execution_count": 19,
   "metadata": {},
   "outputs": [
    {
     "data": {
      "text/plain": [
       "<matplotlib.axes._subplots.AxesSubplot at 0x7fe59821eca0>"
      ]
     },
     "execution_count": 19,
     "metadata": {},
     "output_type": "execute_result"
    },
    {
     "data": {
      "image/png": "[encoded data removed]",
      "text/plain": [
       "<Figure size 432x288 with 1 Axes>"
      ]
     },
     "metadata": {
      "needs_background": "light"
     },
     "output_type": "display_data"
    },
    {
     "data": {
      "image/png": "[encoded data removed]",
      "text/plain": [
       "<Figure size 1440x720 with 1 Axes>"
      ]
     },
     "metadata": {
      "needs_background": "light"
     },
     "output_type": "display_data"
    }
   ],
   "source": [
    "#Total charge by month\n",
    "df['Order Month'] = df['Order Date'].dt.month\n",
    "df.plot.bar(x='Order Month', y='Total Charged', rot=90)\n",
    "df.plot.bar(x='Order Month', y='Total Charged', rot=90, figsize=(20,10))\n",
    "daily_orders = df.groupby('Order Month').sum()[\"Total Charged\"]\n",
    "daily_orders.head()\n",
    "daily_orders.plot.bar(figsize=(20,10))"
   ]
  },
  {
   "cell_type": "code",
   "execution_count": 20,
   "metadata": {},
   "outputs": [
    {
     "data": {
      "text/plain": [
       "<matplotlib.axes._subplots.AxesSubplot at 0x7fe5789b6220>"
      ]
     },
     "execution_count": 20,
     "metadata": {},
     "output_type": "execute_result"
    },
    {
     "data": {
      "image/png": "[encoded data removed]",
      "text/plain": [
       "<Figure size 432x288 with 1 Axes>"
      ]
     },
     "metadata": {
      "needs_background": "light"
     },
     "output_type": "display_data"
    },
    {
     "data": {
      "image/png": "[encoded data removed]",
      "text/plain": [
       "<Figure size 1440x720 with 1 Axes>"
      ]
     },
     "metadata": {
      "needs_background": "light"
     },
     "output_type": "display_data"
    }
   ],
   "source": [
    "#Average charge by month\n",
    "df['Order Month'] = df['Order Date'].dt.month\n",
    "df.plot.bar(x='Order Month', y='Total Charged', rot=90)\n",
    "df.plot.bar(x='Order Month', y='Total Charged', rot=90, figsize=(20,10))\n",
    "daily_orders = df.groupby('Order Month').mean()[\"Total Charged\"]\n",
    "daily_orders.head()\n",
    "daily_orders.plot.bar(figsize=(20,10))"
   ]
  },
  {
   "cell_type": "code",
   "execution_count": null,
   "metadata": {},
   "outputs": [],
   "source": []
  }
 ],
 "metadata": {
  "kernelspec": {
   "display_name": "Python 3",
   "language": "python",
   "name": "python3"
  },
  "language_info": {
   "codemirror_mode": {
    "name": "ipython",
    "version": 3
   },
   "file_extension": ".py",
   "mimetype": "text/x-python",
   "name": "python",
   "nbconvert_exporter": "python",
   "pygments_lexer": "ipython3",
   "version": "3.8.3"
  }
 },
 "nbformat": 4,
 "nbformat_minor": 4
}
